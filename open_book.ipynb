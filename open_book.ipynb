{
 "cells": [
  {
   "cell_type": "code",
   "execution_count": null,
   "id": "08054719",
   "metadata": {},
   "outputs": [],
   "source": [
    "!pip install selenium"
   ]
  },
  {
   "cell_type": "code",
   "execution_count": 1,
   "id": "da4ca6ab",
   "metadata": {},
   "outputs": [],
   "source": [
    "from selenium import webdriver\n",
    "from selenium.webdriver.common.by import By\n",
    "from selenium.webdriver.common.keys import Keys\n",
    "from selenium.webdriver.chrome.service import Service\n",
    "import time\n",
    "s=Service(r'E:\\chromedriver')\n",
    "driver = webdriver.Chrome(service=s)\n",
    "driver.get('https://splinterlands.com')"
   ]
  },
  {
   "cell_type": "code",
   "execution_count": 5,
   "id": "c1d83626",
   "metadata": {},
   "outputs": [],
   "source": [
    "def Click (XPATH):\n",
    "    driver.find_elements(By.XPATH,XPATH)[0].click()\n",
    "    \n",
    "def Keys(XPATH,key):\n",
    "    Email = driver.find_element(By.XPATH,XPATH)\n",
    "    Email.send_keys(key)"
   ]
  },
  {
   "cell_type": "code",
   "execution_count": 6,
   "id": "97180b0d",
   "metadata": {},
   "outputs": [],
   "source": [
    "IDs = ['ID_1','ID_2']\n",
    "Password = ['Password_1','Password_2']"
   ]
  },
  {
   "cell_type": "code",
   "execution_count": null,
   "id": "fdaa6611",
   "metadata": {},
   "outputs": [],
   "source": [
    "Count = 0 \n",
    "\n",
    "for ID in IDs :\n",
    "    \n",
    "    login_1 = Click('//*[@id=\"log_in_button\"]/button')\n",
    "    time.sleep(5)\n",
    "    \n",
    "    ID = Keys('//*[@id=\"email\"]',f'{ID}')\n",
    "    time.sleep(1)\n",
    "    \n",
    "    password =Keys('//*[@id=\"password\"]',f'{Password[Count]}')\n",
    "    print('Login ID : '+str(IDs[Count]))\n",
    "    Count += 1\n",
    "    \n",
    "    time.sleep(1)\n",
    "    Login = Click('//*[@id=\"loginBtn\"]')\n",
    "    time.sleep(20)\n",
    "    \n",
    "    try: \n",
    "        Announcement = Click('//*[@id=\"dialog_container\"]/div/div/div/div[1]/button')\n",
    "        print( 'Close Announcement' )\n",
    "        time.sleep(3)\n",
    "    except:    \n",
    "        print( 'Not show Announcement' )\n",
    "\n",
    "    try: \n",
    "        Welcome = Click('//*[@id=\"daily_update_dialog\"]/div/div/div[1]/div[2]/img')\n",
    "        print( 'Close Welcome' )\n",
    "        time.sleep(3)\n",
    "    except:    \n",
    "        print( 'Not show Welcome' )\n",
    "    \n",
    "    Battle =Click('//*[@id=\"menu_item_battle\"]/a/img')\n",
    "    print( 'Click Battle' )\n",
    "    time.sleep(3)\n",
    "    \n",
    "    try: \n",
    "        Claim_Rewards = Click('//*[@id=\"leagues_info_content\"]/div[2]/div/div/div/div[2]/button')\n",
    "        print( 'Click Claim Rewards' )\n",
    "        time.sleep(20)\n",
    "    except:\n",
    "         print('Not show Claim Rewards')\n",
    "\n",
    "    try: \n",
    "        Claim = Click('//*[@id=\"claim-btn\"]')\n",
    "        print( 'Click Claim Button' )\n",
    "        time.sleep(20)\n",
    "    except:\n",
    "        print('Not show Claim Button')\n",
    "\n",
    "    try:\n",
    "        countRow1 =   len(driver.find_elements(By.XPATH,'//div[@class=\"pack-card-container\"]'))\n",
    "        countRow2 =   len(driver.find_elements(By.XPATH,'//div[@class=\"pack-card-container flip-card\"]'))\n",
    "        print('Count Box ')\n",
    "    except:\n",
    "        print('Error pack-card-container flip-card')\n",
    "\n",
    "    box = countRow1+countRow2\n",
    "    print('Total 3 boxes '+ str(box))\n",
    "    Box = 1\n",
    "\n",
    "    while Box <= box :\n",
    "        driver.find_elements(By.XPATH,'//*[@id=\"open_pack_dialog\"]/div/div/div[1]/div/div['+str(Box)+']/div/div[1]/img')[0].click()\n",
    "        print('Open Box'+str(Box))\n",
    "        time.sleep(5)\n",
    "        Box+=1\n",
    "\n",
    "    Box = 1\n",
    "    try: \n",
    "        Close = Click('//*[@id=\"btnCloseOpenPack\"]/span')\n",
    "    except:\n",
    "         print('Not show Close')\n",
    "   \n",
    "    time.sleep(3)\n",
    "    \n",
    "    Log_Out = Click('//*[@id=\"log_in_text\"]/a/div/div[1]/div/div/div/img[2]')\n",
    "    time.sleep(3)\n",
    "    LogOut = Click('//*[@id=\"log_in_text\"]/ul/li[10]/a')\n",
    "    print( 'Log Out' )\n",
    "    print( '----------------------------------------------' )\n",
    "    time.sleep(20)"
   ]
  }
 ],
 "metadata": {
  "kernelspec": {
   "display_name": "Python 3 (ipykernel)",
   "language": "python",
   "name": "python3"
  },
  "language_info": {
   "codemirror_mode": {
    "name": "ipython",
    "version": 3
   },
   "file_extension": ".py",
   "mimetype": "text/x-python",
   "name": "python",
   "nbconvert_exporter": "python",
   "pygments_lexer": "ipython3",
   "version": "3.9.7"
  }
 },
 "nbformat": 4,
 "nbformat_minor": 5
}
